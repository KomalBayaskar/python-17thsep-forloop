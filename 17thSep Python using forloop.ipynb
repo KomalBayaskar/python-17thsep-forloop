{
 "cells": [
  {
   "cell_type": "code",
   "execution_count": null,
   "id": "c9de7f5c-c9b5-43f0-94e1-221be6f11496",
   "metadata": {},
   "outputs": [
    {
     "name": "stdout",
     "output_type": "stream",
     "text": [
      "1\n",
      "2\n",
      "3\n",
      "4\n",
      "5\n"
     ]
    }
   ],
   "source": [
    "# Write a Python program to print numbers from 1 to 10 using a for loop.\n",
    "\n",
    "for number in range(1, 6):\n",
    "    print(number)\n"
   ]
  },
  {
   "cell_type": "markdown",
   "id": "6130442b-24f9-4b81-ae94-fdc0dc71615e",
   "metadata": {},
   "source": [
    "<!-- Explain the difference between a for loop and a while loop in Python. -->"
   ]
  },
  {
   "cell_type": "code",
   "execution_count": null,
   "id": "29c9507d-ed14-4382-b5fb-a8db95c216e0",
   "metadata": {},
   "outputs": [
    {
     "name": "stdout",
     "output_type": "stream",
     "text": [
      "1\n",
      "2\n",
      "3\n",
      "4\n",
      "5\n",
      "6\n",
      "7\n",
      "8\n",
      "9\n",
      "10\n"
     ]
    }
   ],
   "source": [
    "\n",
    "# for loop is typically used when you know in advance how many times you want to execute a statement or a block of statements.\n",
    "\n",
    "for number in range(1, 11):\n",
    "    print(number )\n",
    "    \n"
   ]
  },
  {
   "cell_type": "code",
   "execution_count": 12,
   "id": "8693a443-643f-4592-aae7-1182fc863840",
   "metadata": {},
   "outputs": [
    {
     "name": "stdout",
     "output_type": "stream",
     "text": [
      "1\n",
      "2\n",
      "3\n",
      "4\n",
      "5\n",
      "6\n",
      "7\n",
      "8\n",
      "9\n",
      "10\n"
     ]
    }
   ],
   "source": [
    "# while loop is used when you want to execute a block of code as long as a condition is true.\n",
    "    \n",
    "number = 1\n",
    "while number <= 10:\n",
    "    print(number)\n",
    "    number += 1"
   ]
  },
  {
   "cell_type": "code",
   "execution_count": 14,
   "id": "84d7e0ce-6019-4c31-b548-6a648fcd6501",
   "metadata": {},
   "outputs": [
    {
     "name": "stdout",
     "output_type": "stream",
     "text": [
      "The sum of all numbers from 1 to 100 is: 4950\n"
     ]
    }
   ],
   "source": [
    "# Write a Python program to calculate the sum of all numbers from 1 to 100 using a for loop.\n",
    "\n",
    "total_sum = 0\n",
    "\n",
    "for number in range(1, 100):\n",
    "    total_sum += number  \n",
    "\n",
    "print(\"The sum of all numbers from 1 to 100 is:\", total_sum)\n"
   ]
  },
  {
   "cell_type": "code",
   "execution_count": 15,
   "id": "128e82d8-327e-479e-bbc5-3155ef65d539",
   "metadata": {},
   "outputs": [
    {
     "name": "stdout",
     "output_type": "stream",
     "text": [
      "apple\n",
      "banana\n",
      "cherry\n",
      "date\n"
     ]
    }
   ],
   "source": [
    "# How do you iterate through a list using a for loop in Python?\n",
    "fruits = [\"apple\", \"banana\", \"cherry\", \"date\"]\n",
    "\n",
    "for fruit in fruits:\n",
    "    print(fruit)\n"
   ]
  },
  {
   "cell_type": "code",
   "execution_count": 16,
   "id": "bb439ba4-0546-4ce9-80ec-dda9bd55fe38",
   "metadata": {},
   "outputs": [
    {
     "name": "stdout",
     "output_type": "stream",
     "text": [
      "The product of all elements in the list is: 120\n"
     ]
    }
   ],
   "source": [
    "# Write a Python program to find the product of all elements in a list using a for loop\n",
    "\n",
    "numbers = [1, 2, 3, 4, 5]\n",
    "\n",
    "product = 1\n",
    "\n",
    "for number in numbers:\n",
    "    product *= number  \n",
    "\n",
    "print(\"The product of all elements in the list is:\", product)\n"
   ]
  },
  {
   "cell_type": "code",
   "execution_count": 18,
   "id": "94f75644-b4cf-4546-9be0-383099995106",
   "metadata": {},
   "outputs": [
    {
     "name": "stdout",
     "output_type": "stream",
     "text": [
      "2\n",
      "4\n",
      "6\n",
      "8\n",
      "10\n",
      "12\n",
      "14\n",
      "16\n",
      "18\n",
      "20\n"
     ]
    }
   ],
   "source": [
    "# Create a Python program that prints all even numbers from 1 to 20 using a for loop\n",
    "\n",
    "for number in range(1, 21):\n",
    "    if number % 2 == 0:\n",
    "        print(number)\n"
   ]
  },
  {
   "cell_type": "code",
   "execution_count": 19,
   "id": "9c489699-8f02-4a26-8b92-b478d467970c",
   "metadata": {},
   "outputs": [
    {
     "name": "stdin",
     "output_type": "stream",
     "text": [
      "Enter a number to calculate its factorial:  5\n"
     ]
    },
    {
     "name": "stdout",
     "output_type": "stream",
     "text": [
      "The factorial of 5 is: 120\n"
     ]
    }
   ],
   "source": [
    "# Write a Python program that calculates the factorial of a number using a for loop.\n",
    "\n",
    "def factorial(n):\n",
    "    result = 1\n",
    "    \n",
    "    for i in range(1, n + 1):\n",
    "        result *= i \n",
    "    \n",
    "    return result\n",
    "\n",
    "number = int(input(\"Enter a number to calculate its factorial: \"))\n",
    "\n",
    "factorial_result = factorial(number)\n",
    "\n",
    "print(f\"The factorial of {number} is: {factorial_result}\")\n"
   ]
  },
  {
   "cell_type": "code",
   "execution_count": 21,
   "id": "77182481-3206-44b0-91c9-cb8c8b75e7a6",
   "metadata": {},
   "outputs": [
    {
     "name": "stdout",
     "output_type": "stream",
     "text": [
      "Index: 0, Character: H\n",
      "Index: 1, Character: e\n",
      "Index: 2, Character: l\n",
      "Index: 3, Character: l\n",
      "Index: 4, Character: o\n",
      "Index: 5, Character: ,\n",
      "Index: 6, Character:  \n",
      "Index: 7, Character: P\n",
      "Index: 8, Character: W\n",
      "Index: 9, Character: s\n",
      "Index: 10, Character: k\n",
      "Index: 11, Character: i\n",
      "Index: 12, Character: l\n",
      "Index: 13, Character: l\n",
      "Index: 14, Character: !\n"
     ]
    }
   ],
   "source": [
    "# How can you iterate through the characters of a string using a for loop in Python?\n",
    "text = \"Hello, PWskill!\"\n",
    "\n",
    "for index, char in enumerate(text):\n",
    "    print(f\"Index: {index}, Character: {char}\")\n"
   ]
  },
  {
   "cell_type": "code",
   "execution_count": 23,
   "id": "65da88d4-a255-4115-8125-56ff35628add",
   "metadata": {},
   "outputs": [
    {
     "name": "stdout",
     "output_type": "stream",
     "text": [
      "The largest number in the list is: 174\n"
     ]
    }
   ],
   "source": [
    "# Write a Python program to find the largest number in a list using a for loop.\n",
    "\n",
    "numbers = [3, 41, 12, 9, 174, 15]\n",
    "\n",
    "\n",
    "largest = numbers[0]\n",
    "\n",
    "for number in numbers:\n",
    "    if number > largest:\n",
    "        largest = number  \n",
    "\n",
    "print(\"The largest number in the list is:\", largest)\n"
   ]
  },
  {
   "cell_type": "code",
   "execution_count": 24,
   "id": "f242cd6d-283e-4cf1-afe8-c5cde9fd367b",
   "metadata": {},
   "outputs": [
    {
     "name": "stdin",
     "output_type": "stream",
     "text": [
      "Enter the number of Fibonacci numbers to print:  8\n"
     ]
    },
    {
     "name": "stdout",
     "output_type": "stream",
     "text": [
      "0 1 1 2 3 5 8 13 "
     ]
    }
   ],
   "source": [
    "# Create a Python program that prints the Fibonacci sequence up to a specified limit using a for loop.\n",
    "\n",
    "def print_fibonacci(limit):\n",
    "    a, b = 0, 1\n",
    "    \n",
    "    print(a, end=' ')\n",
    "    \n",
    "    for _ in range(limit - 1):\n",
    "        print(b, end=' ')\n",
    "        a, b = b, a + b\n",
    "\n",
    "limit = int(input(\"Enter the number of Fibonacci numbers to print: \"))\n",
    "\n",
    "print_fibonacci(limit)\n"
   ]
  },
  {
   "cell_type": "code",
   "execution_count": 25,
   "id": "7d0f1119-bff3-4171-a06d-de2fbdd59d84",
   "metadata": {},
   "outputs": [
    {
     "name": "stdin",
     "output_type": "stream",
     "text": [
      "Enter a string:  welcome to pwskills\n"
     ]
    },
    {
     "name": "stdout",
     "output_type": "stream",
     "text": [
      "Number of vowels in the string: 5\n"
     ]
    }
   ],
   "source": [
    "# Write a Python program to count the number of vowels in a given string using a for loop.\n",
    "\n",
    "def count_vowels(string):\n",
    "    vowels = {'a', 'e', 'i', 'o', 'u'}\n",
    "    \n",
    "    count = 0\n",
    "    \n",
    "    for char in string:\n",
    "        if char.lower() in vowels:\n",
    "            count += 1 \n",
    "    \n",
    "    return count\n",
    "\n",
    "string = input(\"Enter a string: \")\n",
    "\n",
    "vowel_count = count_vowels(string)\n",
    "\n",
    "print(\"Number of vowels in the string:\", vowel_count)\n"
   ]
  },
  {
   "cell_type": "code",
   "execution_count": 26,
   "id": "7ca2dd5a-673c-495a-a65c-b188ecb9f8fe",
   "metadata": {},
   "outputs": [
    {
     "name": "stdin",
     "output_type": "stream",
     "text": [
      "Enter a number to generate its multiplication table:  5\n"
     ]
    },
    {
     "name": "stdout",
     "output_type": "stream",
     "text": [
      "5 x 1 = 5\n",
      "5 x 2 = 10\n",
      "5 x 3 = 15\n",
      "5 x 4 = 20\n",
      "5 x 5 = 25\n",
      "5 x 6 = 30\n",
      "5 x 7 = 35\n",
      "5 x 8 = 40\n",
      "5 x 9 = 45\n",
      "5 x 10 = 50\n"
     ]
    }
   ],
   "source": [
    "# Create a Python program that generates a multiplication table for a given number using a for loop.\n",
    "\n",
    "def multiplication_table(number):\n",
    "    for i in range(1, 11):\n",
    "        product = number * i\n",
    "        print(f\"{number} x {i} = {product}\")\n",
    "\n",
    "number = int(input(\"Enter a number to generate its multiplication table: \"))\n",
    "\n",
    "multiplication_table(number)\n"
   ]
  },
  {
   "cell_type": "code",
   "execution_count": 29,
   "id": "f47baa25-d389-440d-a390-985d292e7f1c",
   "metadata": {},
   "outputs": [
    {
     "name": "stdin",
     "output_type": "stream",
     "text": [
      "Enter elements of the list separated by space:  hello good morning\n"
     ]
    },
    {
     "name": "stdout",
     "output_type": "stream",
     "text": [
      "Reversed list: ['morning', 'good', 'hello']\n"
     ]
    }
   ],
   "source": [
    "# Write a Python program to reverse a list using a for loop\n",
    "\n",
    "def reverse_list(input_list):\n",
    "    reversed_list = []\n",
    "    \n",
    "    for i in range(len(input_list) - 1, -1, -1):\n",
    "        reversed_list.append(input_list[i])  \n",
    "    \n",
    "    return reversed_list\n",
    "\n",
    "input_list = input(\"Enter elements of the list separated by space: \").split()\n",
    "\n",
    "reversed_list = reverse_list(input_list)\n",
    "\n",
    "print(\"Reversed list:\", reversed_list)\n"
   ]
  },
  {
   "cell_type": "code",
   "execution_count": 31,
   "id": "9bfed9bc-8b7f-4457-95be-05de67161e19",
   "metadata": {},
   "outputs": [
    {
     "name": "stdin",
     "output_type": "stream",
     "text": [
      "Enter elements of the first list separated by space:  hello good morning\n",
      "Enter elements of the second list separated by space:  hello good evening\n"
     ]
    },
    {
     "name": "stdout",
     "output_type": "stream",
     "text": [
      "Common elements between the two lists: ['hello', 'good']\n"
     ]
    }
   ],
   "source": [
    "# Write a Python program to find the common elements between two lists using a for loop\n",
    "\n",
    "def find_common_elements(list1, list2):\n",
    "    common_elements = []\n",
    "    \n",
    "    for item1 in list1:\n",
    "        if item1 in list2:\n",
    "            common_elements.append(item1)  \n",
    "    \n",
    "    return common_elements\n",
    "\n",
    "list1 = input(\"Enter elements of the first list separated by space: \").split()\n",
    "list2 = input(\"Enter elements of the second list separated by space: \").split()\n",
    "\n",
    "common_elements = find_common_elements(list1, list2)\n",
    "\n",
    "print(\"Common elements between the two lists:\", common_elements)\n"
   ]
  },
  {
   "cell_type": "code",
   "execution_count": 32,
   "id": "c8d20dbc-e10f-4e7f-8b0c-5fddaab4fbc5",
   "metadata": {},
   "outputs": [
    {
     "name": "stdout",
     "output_type": "stream",
     "text": [
      "Key: a, Value: 1\n",
      "Key: b, Value: 2\n",
      "Key: c, Value: 3\n"
     ]
    }
   ],
   "source": [
    "# Explain how to use a for loop to iterate through the keys and values of a dictionary in Python.\n",
    "my_dict = {'a': 1, 'b': 2, 'c': 3}\n",
    "\n",
    "for key in my_dict:\n",
    "    value = my_dict[key]\n",
    "    print(f\"Key: {key}, Value: {value}\")\n"
   ]
  },
  {
   "cell_type": "code",
   "execution_count": 33,
   "id": "7c6ed73c-d7d6-43d0-b683-86ba4cac5747",
   "metadata": {},
   "outputs": [
    {
     "name": "stdin",
     "output_type": "stream",
     "text": [
      "Enter the first number:  8\n",
      "Enter the second number:  24\n"
     ]
    },
    {
     "name": "stdout",
     "output_type": "stream",
     "text": [
      "The Greatest Common Divisor (GCD) of 8 and 24 is: 8\n"
     ]
    }
   ],
   "source": [
    "# Write a Python program to find the GCD (Greatest Common Divisor) of two numbers using a for loop.\n",
    "\n",
    "def find_gcd(x, y):\n",
    "    gcd = 1\n",
    "    \n",
    "    min_num = min(x, y)\n",
    "    \n",
    "    for i in range(1, min_num + 1):\n",
    "        if x % i == 0 and y % i == 0:\n",
    "            gcd = i  \n",
    "    \n",
    "    return gcd\n",
    "\n",
    "num1 = int(input(\"Enter the first number: \"))\n",
    "num2 = int(input(\"Enter the second number: \"))\n",
    "\n",
    "gcd = find_gcd(num1, num2)\n",
    "\n",
    "print(\"The Greatest Common Divisor (GCD) of\", num1, \"and\", num2, \"is:\", gcd)\n"
   ]
  },
  {
   "cell_type": "code",
   "execution_count": 37,
   "id": "14309244-c590-4fc0-af5a-8920200330b8",
   "metadata": {},
   "outputs": [
    {
     "name": "stdin",
     "output_type": "stream",
     "text": [
      "Enter a string:  99\n"
     ]
    },
    {
     "name": "stdout",
     "output_type": "stream",
     "text": [
      "The string is a palindrome.\n"
     ]
    }
   ],
   "source": [
    "# Create a Python program that checks if a string is a palindrome using a for loop.\n",
    "\n",
    "def is_palindrome(string):\n",
    "    string = string.replace(\" \", \"\").lower()\n",
    "    \n",
    "    for i in range(len(string) // 2):\n",
    "        if string[i] != string[len(string) - i - 1]:\n",
    "            return False \n",
    "    \n",
    "    return True  \n",
    "input_string = input(\"Enter a string: \")\n",
    "\n",
    "if is_palindrome(input_string):\n",
    "    print(\"The string is a palindrome.\")\n",
    "else:\n",
    "    print(\"The string is not a palindrome.\")\n"
   ]
  },
  {
   "cell_type": "code",
   "execution_count": 39,
   "id": "0ed60d9f-13ff-4874-91d3-165ce67abf67",
   "metadata": {},
   "outputs": [
    {
     "name": "stdin",
     "output_type": "stream",
     "text": [
      "Enter elements of the list separated by space:  hi hello how are you? hi\n"
     ]
    },
    {
     "name": "stdout",
     "output_type": "stream",
     "text": [
      "List after removing duplicates: ['hi', 'hello', 'how', 'are', 'you?']\n"
     ]
    }
   ],
   "source": [
    "# Write a Python program to remove duplicates from a list using a for loop\n",
    "\n",
    "def remove_duplicates(input_list):\n",
    "    unique_list = []\n",
    "    \n",
    "    for item in input_list:\n",
    "        if item not in unique_list:\n",
    "            unique_list.append(item)\n",
    "    \n",
    "    return unique_list\n",
    "\n",
    "input_list = input(\"Enter elements of the list separated by space: \").split()\n",
    "\n",
    "unique_list = remove_duplicates(input_list)\n",
    "\n",
    "print(\"List after removing duplicates:\", unique_list)\n"
   ]
  },
  {
   "cell_type": "code",
   "execution_count": 40,
   "id": "fd822b1b-8704-4c73-a902-770ac5f94a0c",
   "metadata": {},
   "outputs": [
    {
     "name": "stdin",
     "output_type": "stream",
     "text": [
      "Enter a sentence:  i am a free bird\n"
     ]
    },
    {
     "name": "stdout",
     "output_type": "stream",
     "text": [
      "Number of words in the sentence: 5\n"
     ]
    }
   ],
   "source": [
    "# Create a Python program that counts the number of words in a sentence using a for loop.\n",
    "\n",
    "def count_words(sentence):\n",
    "    word_count = 0\n",
    "    \n",
    "    words = sentence.split()\n",
    "    \n",
    "    for word in words:\n",
    "        word_count += 1\n",
    "    \n",
    "    return word_count\n",
    "\n",
    "sentence = input(\"Enter a sentence: \")\n",
    "\n",
    "num_words = count_words(sentence)\n",
    "\n",
    "print(\"Number of words in the sentence:\", num_words)\n"
   ]
  },
  {
   "cell_type": "code",
   "execution_count": 43,
   "id": "1377616e-12a0-4c7a-bc38-d2e529543515",
   "metadata": {},
   "outputs": [
    {
     "name": "stdout",
     "output_type": "stream",
     "text": [
      "Sum of all odd numbers from 1 to 50: 625\n"
     ]
    }
   ],
   "source": [
    "# Write a Python program to find the sum of all odd numbers from 1 to 50 using a for loop.\n",
    "\n",
    "sum_of_odd_numbers = 0\n",
    "\n",
    "for num in range(1, 50):\n",
    "    if num % 2 != 0:\n",
    "        sum_of_odd_numbers += num \n",
    "\n",
    "print(\"Sum of all odd numbers from 1 to 50:\", sum_of_odd_numbers)\n"
   ]
  },
  {
   "cell_type": "code",
   "execution_count": 46,
   "id": "f97f6d48-b494-40a6-901d-7382bfd9d4c6",
   "metadata": {},
   "outputs": [
    {
     "name": "stdin",
     "output_type": "stream",
     "text": [
      "Enter a year:  2024\n"
     ]
    },
    {
     "name": "stdout",
     "output_type": "stream",
     "text": [
      "2024 is a leap year.\n"
     ]
    }
   ],
   "source": [
    "# Write a Python program that checks if a given year is a leap year using a for loop.\n",
    "\n",
    "def is_leap_year(year):\n",
    "    \n",
    "    return (year % 4 == 0 and year % 100 != 0) or (year % 400 == 0)\n",
    "\n",
    "year = int(input(\"Enter a year: \"))\n",
    "\n",
    "if is_leap_year(year):\n",
    "    print(year, \"is a leap year.\")\n",
    "else:\n",
    "    print(year, \"is not a leap year.\")\n"
   ]
  },
  {
   "cell_type": "code",
   "execution_count": 48,
   "id": "9159c09f-3edb-4a0a-bfb6-69c664a4456e",
   "metadata": {},
   "outputs": [
    {
     "name": "stdin",
     "output_type": "stream",
     "text": [
      "Enter a number to calculate its square root:  121\n"
     ]
    },
    {
     "name": "stdout",
     "output_type": "stream",
     "text": [
      "Square root of 121.0 is approximately: 11.0\n"
     ]
    }
   ],
   "source": [
    "# Create a Python program that calculates the square root of a number using a for loop.\n",
    "\n",
    "def sqrt_babylonian(n):\n",
    "    x = n / 2\n",
    "    iterations = 1000\n",
    "    for _ in range(iterations):\n",
    "        x = (x + n / x) / 2\n",
    "    return x\n",
    "\n",
    "number = float(input(\"Enter a number to calculate its square root: \"))\n",
    "\n",
    "square_root = sqrt_babylonian(number)\n",
    "\n",
    "print(\"Square root of\", number, \"is approximately:\", square_root)\n"
   ]
  },
  {
   "cell_type": "code",
   "execution_count": 49,
   "id": "2677befe-5be5-4efa-9b31-6246198178e5",
   "metadata": {},
   "outputs": [
    {
     "name": "stdin",
     "output_type": "stream",
     "text": [
      "Enter the first number:  25\n",
      "Enter the second number:  30\n"
     ]
    },
    {
     "name": "stdout",
     "output_type": "stream",
     "text": [
      "The Least Common Multiple (LCM) of 25 and 30 is: 150\n"
     ]
    }
   ],
   "source": [
    "# Write a Python program to find the LCM (Least Common Multiple) of two numbers using a for loop.\n",
    "\n",
    "def find_gcd(x, y):\n",
    "    gcd = 1\n",
    "    \n",
    "    min_num = min(x, y)\n",
    "    \n",
    "    for i in range(1, min_num + 1):\n",
    "        if x % i == 0 and y % i == 0:\n",
    "            gcd = i  \n",
    "    \n",
    "    return gcd\n",
    "\n",
    "def find_lcm(x, y):\n",
    "    lcm = (x * y) // find_gcd(x, y)\n",
    "    return lcm\n",
    "\n",
    "num1 = int(input(\"Enter the first number: \"))\n",
    "num2 = int(input(\"Enter the second number: \"))\n",
    "\n",
    "lcm = find_lcm(num1, num2)\n",
    "\n",
    "print(\"The Least Common Multiple (LCM) of\", num1, \"and\", num2, \"is:\", lcm)\n"
   ]
  },
  {
   "cell_type": "code",
   "execution_count": null,
   "id": "5861c7d0-0d10-4431-b157-cb14b3decdd8",
   "metadata": {},
   "outputs": [],
   "source": []
  }
 ],
 "metadata": {
  "kernelspec": {
   "display_name": "Python 3 (ipykernel)",
   "language": "python",
   "name": "python3"
  },
  "language_info": {
   "codemirror_mode": {
    "name": "ipython",
    "version": 3
   },
   "file_extension": ".py",
   "mimetype": "text/x-python",
   "name": "python",
   "nbconvert_exporter": "python",
   "pygments_lexer": "ipython3",
   "version": "3.10.8"
  }
 },
 "nbformat": 4,
 "nbformat_minor": 5
}
